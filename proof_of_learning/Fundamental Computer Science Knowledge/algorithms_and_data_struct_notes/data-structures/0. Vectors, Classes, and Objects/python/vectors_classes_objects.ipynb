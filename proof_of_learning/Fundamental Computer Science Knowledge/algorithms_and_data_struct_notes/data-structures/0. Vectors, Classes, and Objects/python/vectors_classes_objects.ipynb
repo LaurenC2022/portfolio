{
 "cells": [
  {
   "cell_type": "markdown",
   "metadata": {},
   "source": [
    "Lauren Collins \n",
    "Independent Study \n",
    "October 30, 2024 \n",
    "\n",
    "Usage: \n",
    "    \n",
    "    1. open juypternotebook file in GitHub Code Space\n",
    "    2. Select \"Run All\"\n",
    "    3. Select Python Environment and latest version of python "
   ]
  },
  {
   "cell_type": "markdown",
   "metadata": {},
   "source": [
    "## Lists: Any data type can be used in lists for python. Size of lists are dynamic. Limited operations and loops required "
   ]
  },
  {
   "cell_type": "markdown",
   "metadata": {},
   "source": [
    "## Lists\n",
    "\n",
    "- Any data type can be used in lists for python\n",
    "- Size of lists are dynamic \n",
    "- Limited operations and loops required "
   ]
  },
  {
   "cell_type": "code",
   "execution_count": 1,
   "metadata": {},
   "outputs": [
    {
     "name": "stdout",
     "output_type": "stream",
     "text": [
      "[1, 2, 'a', [3, 5]]\n"
     ]
    }
   ],
   "source": [
    "my_list = [1, 2, \"a\", [3, 5]]\n",
    "\n",
    "print(my_list)"
   ]
  },
  {
   "cell_type": "markdown",
   "metadata": {},
   "source": [
    "## Array Module: "
   ]
  },
  {
   "cell_type": "markdown",
   "metadata": {},
   "source": [
    "## NumPy Arrays (Like Vectors):"
   ]
  }
 ],
 "metadata": {
  "kernelspec": {
   "display_name": "Python 3",
   "language": "python",
   "name": "python3"
  },
  "language_info": {
   "codemirror_mode": {
    "name": "ipython",
    "version": 3
   },
   "file_extension": ".py",
   "mimetype": "text/x-python",
   "name": "python",
   "nbconvert_exporter": "python",
   "pygments_lexer": "ipython3",
   "version": "3.12.1"
  }
 },
 "nbformat": 4,
 "nbformat_minor": 2
}
